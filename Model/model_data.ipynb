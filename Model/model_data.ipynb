{
 "cells": [
  {
   "cell_type": "code",
   "execution_count": 31,
   "metadata": {},
   "outputs": [],
   "source": [
    "import pandas as pd\n"
   ]
  },
  {
   "cell_type": "code",
   "execution_count": 32,
   "metadata": {},
   "outputs": [],
   "source": [
    "colonnes = ['item', 'type', 'LOC_playbook', 'num_plays', 'num_tasks_playbook', 'avg_task_playbook', 'Num_Imports' , 'Num_Roles' , 'similarity' , 'LOC_play' , 'num_tasks_play' , 'avg_task_play', 'special_chars_play', 'LOC_task', 'task_name_len', 'special_chars_task', 'class']\n",
    "df_nouveau = pd.DataFrame(columns=colonnes)"
   ]
  },
  {
   "cell_type": "code",
   "execution_count": 33,
   "metadata": {},
   "outputs": [],
   "source": [
    "df_initial = pd.read_csv('C:/Users/PC/Desktop/mitacs/Projet/ansible/playbooks/Model/df_combined.csv')"
   ]
  },
  {
   "cell_type": "code",
   "execution_count": 34,
   "metadata": {},
   "outputs": [],
   "source": [
    "for index, row in df_initial.iterrows():\n",
    "    nouvelle_ligne = {'LOC_playbook': 0, 'num_plays': 0, 'num_tasks_playbook': 0, 'avg_task_playbook': 0, 'Num_Imports': 0 , 'Num_Roles': 0, 'similarity': 0 , 'LOC_play': 0 , 'num_tasks_play': 0 , 'avg_task_play': 0, 'special_chars_play': 0, 'LOC_task': 0, 'task_name_len': 0, 'special_chars_task': 0, 'classe': 0}\n",
    "\n",
    "    if pd.notna(row['Playbook Name']):\n",
    "        #print(\"Found Playbook:\", row['Playbook Name'])\n",
    "        nouvelle_ligne['item'] = row['Playbook Name']\n",
    "        nouvelle_ligne['type'] = 'playbook'\n",
    "        nouvelle_ligne['LOC_playbook'] = row['LOC_playbook']\n",
    "        nouvelle_ligne['num_plays'] = row['num_plays']\n",
    "        nouvelle_ligne['num_tasks_playbook'] = row['num_tasks_playbook']\n",
    "        nouvelle_ligne['avg_task_playbook'] = row['avg_task_playbook']\n",
    "        nouvelle_ligne['Num_Imports'] = row['Num_Imports']\n",
    "        nouvelle_ligne['Num_Roles'] = row['Num_Roles']\n",
    "        nouvelle_ligne['similarity'] = row['similarity']\n",
    "    elif pd.notna(row['Play Name']):\n",
    "        #print(\"Found Play:\", row['Play Name'])\n",
    "        nouvelle_ligne['item'] = row['Play Name']\n",
    "        nouvelle_ligne['type'] = 'play'\n",
    "        nouvelle_ligne['LOC_play'] = row['LOC_play']\n",
    "        nouvelle_ligne['num_tasks_play'] = row['num_tasks_play']\n",
    "        nouvelle_ligne['avg_task_play'] = row['avg_task_play']\n",
    "        nouvelle_ligne['special_chars_play'] = row['special_chars_play']\n",
    "    elif pd.notna(row['Task Name']):\n",
    "        #print(\"Found Task:\", row['Task Name'])\n",
    "        nouvelle_ligne['item'] = row['Task Name']\n",
    "        nouvelle_ligne['type'] = 'task'\n",
    "        nouvelle_ligne['LOC_task'] = row['LOC_task']\n",
    "        nouvelle_ligne['task_name_len'] = row['task_name_len']\n",
    "        nouvelle_ligne['special_chars_task'] = row['special_chars_task']\n",
    "\n",
    "    # Pour les odeurs de code (smells), je suppose qu'ils sont dans des colonnes distinctes\n",
    "    smells = ['duplicated code', 'complex playbook', 'high playbook coupling', 'Large Playbook', 'Unnecessary set_fact', 'Overriding facts', 'Incohesive Playbook', 'Unecessary Abstraction ', 'Insufficient Modularization', 'Inconsistent Naming Convention ', 'Large Play', 'Unnamed Play', 'Large Task', 'Long Task Name']\n",
    "    for smell in smells:\n",
    "        #print(f\"Checking smell: {smell}, value: {row[smell]}\")\n",
    "        if str(row[smell]).isdigit() and int(row[smell]) == 1:\n",
    "            #print(f\"Detected smell: {smell}\")\n",
    "            nouvelle_ligne['class'] = smell\n",
    "            df_nouveau = df_nouveau.append(nouvelle_ligne, ignore_index=True)\n",
    "            #print(df_nouveau.tail())\n"
   ]
  },
  {
   "cell_type": "code",
   "execution_count": 10,
   "metadata": {},
   "outputs": [],
   "source": [
    "df_nouveau.to_csv('model_data.csv', index=False)"
   ]
  },
  {
   "cell_type": "code",
   "execution_count": null,
   "metadata": {},
   "outputs": [],
   "source": []
  }
 ],
 "metadata": {
  "kernelspec": {
   "display_name": "base",
   "language": "python",
   "name": "python3"
  },
  "language_info": {
   "codemirror_mode": {
    "name": "ipython",
    "version": 3
   },
   "file_extension": ".py",
   "mimetype": "text/x-python",
   "name": "python",
   "nbconvert_exporter": "python",
   "pygments_lexer": "ipython3",
   "version": "3.8.8"
  },
  "orig_nbformat": 4
 },
 "nbformat": 4,
 "nbformat_minor": 2
}
