{
 "cells": [
  {
   "cell_type": "code",
   "execution_count": 5,
   "metadata": {},
   "outputs": [
    {
     "name": "stdout",
     "output_type": "stream",
     "text": [
      "Requirement already satisfied: nltk in c:\\users\\pc\\anaconda3\\lib\\site-packages (3.6.1)\n",
      "Requirement already satisfied: tqdm in c:\\users\\pc\\anaconda3\\lib\\site-packages (from nltk) (4.59.0)\n",
      "Requirement already satisfied: joblib in c:\\users\\pc\\anaconda3\\lib\\site-packages (from nltk) (1.0.1)\n",
      "Requirement already satisfied: click in c:\\users\\pc\\anaconda3\\lib\\site-packages (from nltk) (8.1.3)\n",
      "Requirement already satisfied: regex in c:\\users\\pc\\anaconda3\\lib\\site-packages (from nltk) (2021.4.4)\n",
      "Requirement already satisfied: colorama in c:\\users\\pc\\anaconda3\\lib\\site-packages (from click->nltk) (0.4.4)\n",
      "Note: you may need to restart the kernel to use updated packages.\n"
     ]
    }
   ],
   "source": [
    "%pip install nltk"
   ]
  },
  {
   "cell_type": "code",
   "execution_count": 6,
   "metadata": {},
   "outputs": [],
   "source": [
    "import nltk\n",
    "from nltk.stem import WordNetLemmatizer\n",
    "import yaml"
   ]
  },
  {
   "cell_type": "code",
   "execution_count": 9,
   "metadata": {},
   "outputs": [
    {
     "name": "stderr",
     "output_type": "stream",
     "text": [
      "[nltk_data] Downloading package wordnet to\n",
      "[nltk_data]     C:\\Users\\PC\\AppData\\Roaming\\nltk_data...\n"
     ]
    },
    {
     "data": {
      "text/plain": [
       "True"
      ]
     },
     "execution_count": 9,
     "metadata": {},
     "output_type": "execute_result"
    }
   ],
   "source": [
    "nltk.download('wordnet')"
   ]
  },
  {
   "cell_type": "code",
   "execution_count": null,
   "metadata": {},
   "outputs": [],
   "source": [
    "project_folder = 'C:/Users/PC/Desktop/mitacs/Projet/ansible/playbooks/projects'  \n",
    "output_file = 'C:/Users/PC/Desktop/mitacs/Projet/ansible/playbooks/datasets/scores.csv'"
   ]
  },
  {
   "cell_type": "code",
   "execution_count": 22,
   "metadata": {},
   "outputs": [
    {
     "name": "stdout",
     "output_type": "stream",
     "text": [
      "[{'hosts': 'all', 'name': 'Low-down and dirty', 'gather_facts': False, 'tasks': [{'name': 'Pick up sensitive vars', 'include_vars': {'file': 'group_vars/passwords-{{ site_name }}.yml'}}, {'name': 'Announce the setup', 'local_action': {'module': 'slack', 'domain': '{{slack_domain}}', 'token': '{{ slack_token }}', 'msg': 'Running training-lab setup for {{ inventory_hostname }} at {{ site_name }} :worried: ', 'username': 'Ansible on {{ inventory_hostname }}', 'link_names': 1, 'parse': 'full'}, 'when': \"chat_service  == 'slack'\", 'tags': ['slack']}, {'name': 'Low down dirty setup', 'become': True, 'raw': 'apt-get -y install {{ item }}', 'with_items': '{{ managed_prerequisites }}'}, {'name': 'Announce the outcome', 'slack': {'domain': '{{ slack_domain }}', 'token': '{{ slack_token }}', 'msg': 'Running training-lab setup for {{ inventory_hostname }} at {{ site_name }} :ok_hand: ', 'username': 'Ansible on {{ inventory_hostname }}', 'link_names': 1, 'parse': 'full'}, 'when': \"chat_service  == 'slack'\", 'tags': ['slack']}]}, {'hosts': 'training-lab', 'name': 'Deploy Ansible onto the lab', 'tasks': [{'name': 'Pick up sensitive vars', 'include_vars': {'file': 'group_vars/passwords-{{ site_name }}.yml'}}, {'name': 'Pick up participants', 'include_vars': {'file': 'group_vars/participants-{{ site_name }}.yml'}}, {'name': 'Announce the Config play', 'slack': {'domain': '{{ slack_domain }}', 'token': '{{ slack_token }}', 'msg': 'Running training-lab configuration on {{ inventory_hostname }} at {{ site_name }} :worried: ', 'username': 'Ansible on {{ inventory_hostname }}', 'link_names': 1, 'parse': 'full'}, 'when': \"chat_service  == 'slack'\", 'tags': ['slack']}, {'name': 'Install some basic stuff', 'become': True, 'package': {'name': '{{ item }}', 'state': 'present'}, 'with_items': '{{ prerequisites[ansible_os_family]}}'}, {'name': 'Install Ansible', 'become': True, 'pip': {'name': 'ansible', 'state': 'present'}}, {'name': 'Announce the Config play outcome', 'slack': {'domain': '{{ slack_domain}}', 'token': '{{ slack_token }}', 'msg': '{{ inventory_hostname }} at {{ site_name }} now knows kung-fu :neo:', 'username': 'Ansible on {{ inventory_hostname }}', 'link_names': 1, 'parse': 'full'}, 'when': \"chat_service  == 'slack'\", 'tags': ['slack']}]}, {'name': 'Setup the users', 'hosts': 'all', 'tasks': [{'name': 'Add the participant', 'user': {'name': '{{ item.username }}', 'comment': 'User added for {{ site_name }} DevOps bootcamp', 'state': 'present', 'shell': '/bin/bash', 'createhome': True, 'generate_ssh_key': True}, 'with_items': '{{ participants}}'}, {'name': 'Ensure that the participant ssh key on Github is in authorized keys', 'authorized_key': {'exclusive': False, 'manage_dir': True, 'user': '{{ item.username }}', 'key': 'https://github.com/{{ item.github }}.keys', 'state': 'present'}, 'with_items': '{{ participants }}'}, {'name': 'Ensure that the user is in sudoers', 'lineinfile': {'line': '{{item.username}}    ALL=NOPASSWD: ALL', 'file': '/etc/sudoers', 'validate': '/usr/sbin/visudo -cf %s'}, 'with_items': '{{ participants}}'}, {'name': 'Assert that the preferred editor is in prerequisites', 'assert': {'that': '{{ item.git.core.package[ansible_os_family ]}} in prerequisites[ansible_os_family]'}}, {'name': 'Git config for the users', 'git_config': {'name': 'core.editor', 'value': '{{ item.git.core.editor}}', 'scope': 'global'}}, {'name': 'Announce the Config play outcome', 'slack': {'domain': '{{ slack_domain}}', 'token': '{{ slack_token }}', 'msg': 'All the base of {{ inventory_hostname }} at {{ site_name }}  belong to :neo:', 'username': 'Ansible on {{ inventory_hostname }}', 'link_names': 1, 'parse': 'full'}, 'when': \"chat_service == 'slack'\", 'tags': ['slack']}]}]\n"
     ]
    }
   ],
   "source": [
    "# Load the YAML data from a file\n",
    "with open('C:/Users/PC/Desktop/mitacs/Projet/ansible/playbooks/projects/AAROC/AnsibleBootCamp/course-preparation/Ansible/training-lab.yml', 'r') as f:\n",
    "    yaml_data = yaml.load(f, Loader=yaml.Loader)\n",
    "print(yaml_data)"
   ]
  },
  {
   "attachments": {},
   "cell_type": "markdown",
   "metadata": {},
   "source": [
    "Sem_Cohesion Plays (names)"
   ]
  },
  {
   "cell_type": "code",
   "execution_count": 24,
   "metadata": {},
   "outputs": [
    {
     "name": "stdout",
     "output_type": "stream",
     "text": [
      "['Low-down and dirty', 'Deploy Ansible onto the lab', 'Setup the users']\n"
     ]
    }
   ],
   "source": [
    "# Extract the names of plays from the YAML data\n",
    "play_names = []\n",
    "for play in yaml_data:\n",
    "    if 'name' in play:\n",
    "        play_name = play['name']\n",
    "        play_names.append(play_name)\n",
    "    #print(play)\n",
    "print(play_names)"
   ]
  },
  {
   "cell_type": "code",
   "execution_count": 25,
   "metadata": {},
   "outputs": [
    {
     "data": {
      "text/plain": [
       "['low-down and dirty', 'deploy ansible onto the lab', 'setup the users']"
      ]
     },
     "execution_count": 25,
     "metadata": {},
     "output_type": "execute_result"
    }
   ],
   "source": [
    "# Initialize the lemmatizer\n",
    "lemmatizer = WordNetLemmatizer()\n",
    "\n",
    "preprocessed_play_names = []\n",
    "for name in play_names:\n",
    "    lowercase_name = name.lower()\n",
    "    singular_name = lemmatizer.lemmatize(lowercase_name)\n",
    "    preprocessed_play_names.append(singular_name)\n",
    "preprocessed_play_names"
   ]
  },
  {
   "cell_type": "code",
   "execution_count": 26,
   "metadata": {},
   "outputs": [
    {
     "name": "stdout",
     "output_type": "stream",
     "text": [
      "Collecting gensim\n",
      "  Downloading gensim-4.3.1-cp39-cp39-win_amd64.whl (24.0 MB)\n",
      "                                              0.0/24.0 MB ? eta -:--:--\n",
      "     ----                                     2.7/24.0 MB 56.2 MB/s eta 0:00:01\n",
      "     ------------                             7.4/24.0 MB 78.2 MB/s eta 0:00:01\n",
      "     --------------------                   13.0/24.0 MB 131.2 MB/s eta 0:00:01\n",
      "     ----------------------------           17.9/24.0 MB 129.5 MB/s eta 0:00:01\n",
      "     -------------------------------------  23.4/24.0 MB 131.2 MB/s eta 0:00:01\n",
      "     -------------------------------------  24.0/24.0 MB 108.8 MB/s eta 0:00:01\n",
      "     --------------------------------------- 24.0/24.0 MB 65.1 MB/s eta 0:00:00\n",
      "Requirement already satisfied: numpy>=1.18.5 in c:\\users\\at84540\\appdata\\local\\programs\\python\\python39\\lib\\site-packages (from gensim) (1.24.3)\n",
      "Collecting scipy>=1.7.0 (from gensim)\n",
      "  Downloading scipy-1.10.1-cp39-cp39-win_amd64.whl (42.5 MB)\n",
      "                                              0.0/42.5 MB ? eta -:--:--\n",
      "     ----                                    5.2/42.5 MB 110.0 MB/s eta 0:00:01\n",
      "     ---------                              10.8/42.5 MB 108.8 MB/s eta 0:00:01\n",
      "     --------------                         15.8/42.5 MB 108.8 MB/s eta 0:00:01\n",
      "     -------------------                    21.5/42.5 MB 110.0 MB/s eta 0:00:01\n",
      "     ------------------------               27.1/42.5 MB 131.2 MB/s eta 0:00:01\n",
      "     ---------------------------             29.8/42.5 MB 93.9 MB/s eta 0:00:01\n",
      "     --------------------------------        35.3/42.5 MB 93.9 MB/s eta 0:00:01\n",
      "     ------------------------------------   40.5/42.5 MB 131.2 MB/s eta 0:00:01\n",
      "     -------------------------------------  42.5/42.5 MB 129.5 MB/s eta 0:00:01\n",
      "     -------------------------------------  42.5/42.5 MB 129.5 MB/s eta 0:00:01\n",
      "     -------------------------------------  42.5/42.5 MB 129.5 MB/s eta 0:00:01\n",
      "     --------------------------------------- 42.5/42.5 MB 43.5 MB/s eta 0:00:00\n",
      "Collecting smart-open>=1.8.1 (from gensim)\n",
      "  Downloading smart_open-6.3.0-py3-none-any.whl (56 kB)\n",
      "                                              0.0/56.8 kB ? eta -:--:--\n",
      "     ---------------------------------------- 56.8/56.8 kB 2.9 MB/s eta 0:00:00\n",
      "Installing collected packages: smart-open, scipy, gensim\n",
      "Successfully installed gensim-4.3.1 scipy-1.10.1 smart-open-6.3.0\n",
      "Note: you may need to restart the kernel to use updated packages.\n"
     ]
    }
   ],
   "source": [
    "%pip install gensim"
   ]
  },
  {
   "cell_type": "code",
   "execution_count": 14,
   "metadata": {},
   "outputs": [
    {
     "name": "stdout",
     "output_type": "stream",
     "text": [
      "Collecting spacy\n",
      "  Downloading spacy-3.5.3-cp38-cp38-win_amd64.whl (12.6 MB)\n",
      "Collecting wasabi<1.2.0,>=0.9.1\n",
      "  Downloading wasabi-1.1.2-py3-none-any.whl (27 kB)\n",
      "Collecting typer<0.8.0,>=0.3.0\n",
      "  Downloading typer-0.7.0-py3-none-any.whl (38 kB)\n",
      "Collecting spacy-loggers<2.0.0,>=1.0.0\n",
      "  Downloading spacy_loggers-1.0.4-py3-none-any.whl (11 kB)\n",
      "Requirement already satisfied: numpy>=1.15.0 in c:\\users\\pc\\anaconda3\\lib\\site-packages (from spacy) (1.23.5)\n",
      "Collecting thinc<8.2.0,>=8.1.8\n",
      "  Downloading thinc-8.1.10-cp38-cp38-win_amd64.whl (1.5 MB)\n",
      "Requirement already satisfied: tqdm<5.0.0,>=4.38.0 in c:\\users\\pc\\anaconda3\\lib\\site-packages (from spacy) (4.59.0)\n",
      "Collecting preshed<3.1.0,>=3.0.2\n",
      "  Downloading preshed-3.0.8-cp38-cp38-win_amd64.whl (96 kB)\n",
      "Collecting langcodes<4.0.0,>=3.2.0\n",
      "  Downloading langcodes-3.3.0-py3-none-any.whl (181 kB)\n",
      "Collecting pydantic!=1.8,!=1.8.1,<1.11.0,>=1.7.4\n",
      "  Downloading pydantic-1.10.9-cp38-cp38-win_amd64.whl (2.2 MB)\n",
      "Requirement already satisfied: requests<3.0.0,>=2.13.0 in c:\\users\\pc\\anaconda3\\lib\\site-packages (from spacy) (2.25.1)\n",
      "Collecting pathy>=0.10.0\n",
      "  Downloading pathy-0.10.2-py3-none-any.whl (48 kB)\n",
      "Requirement already satisfied: setuptools in c:\\users\\pc\\anaconda3\\lib\\site-packages (from spacy) (52.0.0.post20210125)\n",
      "Requirement already satisfied: packaging>=20.0 in c:\\users\\pc\\anaconda3\\lib\\site-packages (from spacy) (23.1)\n",
      "Collecting murmurhash<1.1.0,>=0.28.0\n",
      "  Downloading murmurhash-1.0.9-cp38-cp38-win_amd64.whl (18 kB)\n",
      "Collecting catalogue<2.1.0,>=2.0.6\n",
      "  Downloading catalogue-2.0.8-py3-none-any.whl (17 kB)\n",
      "Requirement already satisfied: jinja2 in c:\\users\\pc\\anaconda3\\lib\\site-packages (from spacy) (3.1.2)\n",
      "Collecting spacy-legacy<3.1.0,>=3.0.11\n",
      "  Downloading spacy_legacy-3.0.12-py2.py3-none-any.whl (29 kB)\n",
      "Collecting smart-open<7.0.0,>=5.2.1\n",
      "  Downloading smart_open-6.3.0-py3-none-any.whl (56 kB)\n",
      "Collecting srsly<3.0.0,>=2.4.3\n",
      "  Downloading srsly-2.4.6-cp38-cp38-win_amd64.whl (482 kB)\n",
      "Collecting cymem<2.1.0,>=2.0.2\n",
      "  Downloading cymem-2.0.7-cp38-cp38-win_amd64.whl (30 kB)\n",
      "Requirement already satisfied: typing-extensions>=4.2.0 in c:\\users\\pc\\anaconda3\\lib\\site-packages (from pydantic!=1.8,!=1.8.1,<1.11.0,>=1.7.4->spacy) (4.5.0)\n",
      "Requirement already satisfied: urllib3<1.27,>=1.21.1 in c:\\users\\pc\\anaconda3\\lib\\site-packages (from requests<3.0.0,>=2.13.0->spacy) (1.26.4)\n",
      "Requirement already satisfied: chardet<5,>=3.0.2 in c:\\users\\pc\\anaconda3\\lib\\site-packages (from requests<3.0.0,>=2.13.0->spacy) (4.0.0)\n",
      "Requirement already satisfied: idna<3,>=2.5 in c:\\users\\pc\\anaconda3\\lib\\site-packages (from requests<3.0.0,>=2.13.0->spacy) (2.10)\n",
      "Requirement already satisfied: certifi>=2017.4.17 in c:\\users\\pc\\anaconda3\\lib\\site-packages (from requests<3.0.0,>=2.13.0->spacy) (2020.12.5)\n",
      "Collecting blis<0.8.0,>=0.7.8\n",
      "  Downloading blis-0.7.9-cp38-cp38-win_amd64.whl (7.0 MB)\n",
      "Collecting confection<1.0.0,>=0.0.1\n",
      "  Downloading confection-0.0.4-py3-none-any.whl (32 kB)\n",
      "Requirement already satisfied: click<9.0.0,>=7.1.1 in c:\\users\\pc\\anaconda3\\lib\\site-packages (from typer<0.8.0,>=0.3.0->spacy) (8.1.3)\n",
      "Requirement already satisfied: colorama in c:\\users\\pc\\anaconda3\\lib\\site-packages (from click<9.0.0,>=7.1.1->typer<0.8.0,>=0.3.0->spacy) (0.4.4)\n",
      "Collecting colorama\n",
      "  Using cached colorama-0.4.6-py2.py3-none-any.whl (25 kB)\n",
      "Requirement already satisfied: MarkupSafe>=2.0 in c:\\users\\pc\\anaconda3\\lib\\site-packages (from jinja2->spacy) (2.1.2)\n",
      "Installing collected packages: colorama, catalogue, srsly, pydantic, murmurhash, cymem, wasabi, typer, smart-open, preshed, confection, blis, thinc, spacy-loggers, spacy-legacy, pathy, langcodes, spacy\n",
      "  Attempting uninstall: colorama\n",
      "    Found existing installation: colorama 0.4.4\n",
      "    Uninstalling colorama-0.4.4:\n",
      "      Successfully uninstalled colorama-0.4.4\n",
      "Successfully installed blis-0.7.9 catalogue-2.0.8 colorama-0.4.6 confection-0.0.4 cymem-2.0.7 langcodes-3.3.0 murmurhash-1.0.9 pathy-0.10.2 preshed-3.0.8 pydantic-1.10.9 smart-open-6.3.0 spacy-3.5.3 spacy-legacy-3.0.12 spacy-loggers-1.0.4 srsly-2.4.6 thinc-8.1.10 typer-0.7.0 wasabi-1.1.2\n",
      "Note: you may need to restart the kernel to use updated packages.\n"
     ]
    },
    {
     "name": "stderr",
     "output_type": "stream",
     "text": [
      "ERROR: pip's dependency resolver does not currently take into account all the packages that are installed. This behaviour is the source of the following dependency conflicts.\n",
      "sphinx 4.0.1 requires Jinja2<3.0,>=2.3, but you have jinja2 3.1.2 which is incompatible.\n",
      "sphinx 4.0.1 requires MarkupSafe<2.0, but you have markupsafe 2.1.2 which is incompatible.\n",
      "ansible-lint 6.8.7 requires pyyaml>=5.4.1, but you have pyyaml 5.4 which is incompatible.\n"
     ]
    }
   ],
   "source": [
    "%pip install spacy\n"
   ]
  },
  {
   "cell_type": "code",
   "execution_count": 36,
   "metadata": {},
   "outputs": [
    {
     "name": "stdout",
     "output_type": "stream",
     "text": [
      "C:\\Users\\AT84540\\AppData\\Local\\Programs\\Python\\Python39\\lib\\site-packages\\spacy\\__init__.py\n"
     ]
    }
   ],
   "source": [
    "print(spacy.__file__)"
   ]
  },
  {
   "cell_type": "code",
   "execution_count": 44,
   "metadata": {},
   "outputs": [
    {
     "name": "stdout",
     "output_type": "stream",
     "text": [
      "Collecting en-core-web-sm==3.5.0\n",
      "  Downloading https://github.com/explosion/spacy-models/releases/download/en_core_web_sm-3.5.0/en_core_web_sm-3.5.0-py3-none-any.whl (12.8 MB)\n",
      "                                              0.0/12.8 MB ? eta -:--:--\n",
      "     --                                       1.0/12.8 MB 20.5 MB/s eta 0:00:01\n",
      "     ---------------                          5.0/12.8 MB 54.1 MB/s eta 0:00:01\n",
      "     --------------------------               8.4/12.8 MB 60.3 MB/s eta 0:00:01\n",
      "     --------------------------------------  12.8/12.8 MB 81.8 MB/s eta 0:00:01\n",
      "     --------------------------------------- 12.8/12.8 MB 65.5 MB/s eta 0:00:00\n",
      "Requirement already satisfied: spacy<3.6.0,>=3.5.0 in c:\\users\\at84540\\appdata\\local\\programs\\python\\python39\\lib\\site-packages (from en-core-web-sm==3.5.0) (3.5.3)\n",
      "Requirement already satisfied: spacy-legacy<3.1.0,>=3.0.11 in c:\\users\\at84540\\appdata\\local\\programs\\python\\python39\\lib\\site-packages (from spacy<3.6.0,>=3.5.0->en-core-web-sm==3.5.0) (3.0.12)\n",
      "Requirement already satisfied: spacy-loggers<2.0.0,>=1.0.0 in c:\\users\\at84540\\appdata\\local\\programs\\python\\python39\\lib\\site-packages (from spacy<3.6.0,>=3.5.0->en-core-web-sm==3.5.0) (1.0.4)\n",
      "Requirement already satisfied: murmurhash<1.1.0,>=0.28.0 in c:\\users\\at84540\\appdata\\local\\programs\\python\\python39\\lib\\site-packages (from spacy<3.6.0,>=3.5.0->en-core-web-sm==3.5.0) (1.0.9)\n",
      "Requirement already satisfied: cymem<2.1.0,>=2.0.2 in c:\\users\\at84540\\appdata\\local\\programs\\python\\python39\\lib\\site-packages (from spacy<3.6.0,>=3.5.0->en-core-web-sm==3.5.0) (2.0.7)\n",
      "Requirement already satisfied: preshed<3.1.0,>=3.0.2 in c:\\users\\at84540\\appdata\\local\\programs\\python\\python39\\lib\\site-packages (from spacy<3.6.0,>=3.5.0->en-core-web-sm==3.5.0) (3.0.8)\n",
      "Requirement already satisfied: thinc<8.2.0,>=8.1.8 in c:\\users\\at84540\\appdata\\local\\programs\\python\\python39\\lib\\site-packages (from spacy<3.6.0,>=3.5.0->en-core-web-sm==3.5.0) (8.1.10)\n",
      "Requirement already satisfied: wasabi<1.2.0,>=0.9.1 in c:\\users\\at84540\\appdata\\local\\programs\\python\\python39\\lib\\site-packages (from spacy<3.6.0,>=3.5.0->en-core-web-sm==3.5.0) (1.1.2)\n",
      "Requirement already satisfied: srsly<3.0.0,>=2.4.3 in c:\\users\\at84540\\appdata\\local\\programs\\python\\python39\\lib\\site-packages (from spacy<3.6.0,>=3.5.0->en-core-web-sm==3.5.0) (2.4.6)\n",
      "Requirement already satisfied: catalogue<2.1.0,>=2.0.6 in c:\\users\\at84540\\appdata\\local\\programs\\python\\python39\\lib\\site-packages (from spacy<3.6.0,>=3.5.0->en-core-web-sm==3.5.0) (2.0.8)\n",
      "Requirement already satisfied: typer<0.8.0,>=0.3.0 in c:\\users\\at84540\\appdata\\local\\programs\\python\\python39\\lib\\site-packages (from spacy<3.6.0,>=3.5.0->en-core-web-sm==3.5.0) (0.7.0)\n",
      "Requirement already satisfied: pathy>=0.10.0 in c:\\users\\at84540\\appdata\\local\\programs\\python\\python39\\lib\\site-packages (from spacy<3.6.0,>=3.5.0->en-core-web-sm==3.5.0) (0.10.1)\n",
      "Requirement already satisfied: smart-open<7.0.0,>=5.2.1 in c:\\users\\at84540\\appdata\\local\\programs\\python\\python39\\lib\\site-packages (from spacy<3.6.0,>=3.5.0->en-core-web-sm==3.5.0) (6.3.0)\n",
      "Requirement already satisfied: tqdm<5.0.0,>=4.38.0 in c:\\users\\at84540\\appdata\\local\\programs\\python\\python39\\lib\\site-packages (from spacy<3.6.0,>=3.5.0->en-core-web-sm==3.5.0) (4.65.0)\n",
      "Requirement already satisfied: numpy>=1.15.0 in c:\\users\\at84540\\appdata\\local\\programs\\python\\python39\\lib\\site-packages (from spacy<3.6.0,>=3.5.0->en-core-web-sm==3.5.0) (1.24.3)\n",
      "Requirement already satisfied: requests<3.0.0,>=2.13.0 in c:\\users\\at84540\\appdata\\local\\programs\\python\\python39\\lib\\site-packages (from spacy<3.6.0,>=3.5.0->en-core-web-sm==3.5.0) (2.31.0)\n",
      "Requirement already satisfied: pydantic!=1.8,!=1.8.1,<1.11.0,>=1.7.4 in c:\\users\\at84540\\appdata\\local\\programs\\python\\python39\\lib\\site-packages (from spacy<3.6.0,>=3.5.0->en-core-web-sm==3.5.0) (1.10.9)\n",
      "Requirement already satisfied: jinja2 in c:\\users\\at84540\\appdata\\local\\programs\\python\\python39\\lib\\site-packages (from spacy<3.6.0,>=3.5.0->en-core-web-sm==3.5.0) (3.1.2)\n",
      "Requirement already satisfied: setuptools in c:\\users\\at84540\\appdata\\local\\programs\\python\\python39\\lib\\site-packages (from spacy<3.6.0,>=3.5.0->en-core-web-sm==3.5.0) (58.1.0)\n",
      "Requirement already satisfied: packaging>=20.0 in c:\\users\\at84540\\appdata\\local\\programs\\python\\python39\\lib\\site-packages (from spacy<3.6.0,>=3.5.0->en-core-web-sm==3.5.0) (23.1)\n",
      "Requirement already satisfied: langcodes<4.0.0,>=3.2.0 in c:\\users\\at84540\\appdata\\local\\programs\\python\\python39\\lib\\site-packages (from spacy<3.6.0,>=3.5.0->en-core-web-sm==3.5.0) (3.3.0)\n",
      "Requirement already satisfied: typing-extensions>=4.2.0 in c:\\users\\at84540\\appdata\\local\\programs\\python\\python39\\lib\\site-packages (from pydantic!=1.8,!=1.8.1,<1.11.0,>=1.7.4->spacy<3.6.0,>=3.5.0->en-core-web-sm==3.5.0) (4.5.0)\n",
      "Requirement already satisfied: charset-normalizer<4,>=2 in c:\\users\\at84540\\appdata\\local\\programs\\python\\python39\\lib\\site-packages (from requests<3.0.0,>=2.13.0->spacy<3.6.0,>=3.5.0->en-core-web-sm==3.5.0) (3.1.0)\n",
      "Requirement already satisfied: idna<4,>=2.5 in c:\\users\\at84540\\appdata\\local\\programs\\python\\python39\\lib\\site-packages (from requests<3.0.0,>=2.13.0->spacy<3.6.0,>=3.5.0->en-core-web-sm==3.5.0) (3.4)\n",
      "Requirement already satisfied: urllib3<3,>=1.21.1 in c:\\users\\at84540\\appdata\\local\\programs\\python\\python39\\lib\\site-packages (from requests<3.0.0,>=2.13.0->spacy<3.6.0,>=3.5.0->en-core-web-sm==3.5.0) (2.0.2)\n",
      "Requirement already satisfied: certifi>=2017.4.17 in c:\\users\\at84540\\appdata\\local\\programs\\python\\python39\\lib\\site-packages (from requests<3.0.0,>=2.13.0->spacy<3.6.0,>=3.5.0->en-core-web-sm==3.5.0) (2023.5.7)\n",
      "Requirement already satisfied: blis<0.8.0,>=0.7.8 in c:\\users\\at84540\\appdata\\local\\programs\\python\\python39\\lib\\site-packages (from thinc<8.2.0,>=8.1.8->spacy<3.6.0,>=3.5.0->en-core-web-sm==3.5.0) (0.7.9)\n",
      "Requirement already satisfied: confection<1.0.0,>=0.0.1 in c:\\users\\at84540\\appdata\\local\\programs\\python\\python39\\lib\\site-packages (from thinc<8.2.0,>=8.1.8->spacy<3.6.0,>=3.5.0->en-core-web-sm==3.5.0) (0.0.4)\n",
      "Requirement already satisfied: colorama in c:\\users\\at84540\\appdata\\local\\programs\\python\\python39\\lib\\site-packages (from tqdm<5.0.0,>=4.38.0->spacy<3.6.0,>=3.5.0->en-core-web-sm==3.5.0) (0.4.6)\n",
      "Requirement already satisfied: click<9.0.0,>=7.1.1 in c:\\users\\at84540\\appdata\\local\\programs\\python\\python39\\lib\\site-packages (from typer<0.8.0,>=0.3.0->spacy<3.6.0,>=3.5.0->en-core-web-sm==3.5.0) (8.1.3)\n",
      "Requirement already satisfied: MarkupSafe>=2.0 in c:\\users\\at84540\\appdata\\local\\programs\\python\\python39\\lib\\site-packages (from jinja2->spacy<3.6.0,>=3.5.0->en-core-web-sm==3.5.0) (2.1.2)\n",
      "Installing collected packages: en-core-web-sm\n",
      "Successfully installed en-core-web-sm-3.5.0\n",
      "\u001b[38;5;2m✔ Download and installation successful\u001b[0m\n",
      "You can now load the package via spacy.load('en_core_web_sm')\n"
     ]
    }
   ],
   "source": [
    "!python -m spacy download en_core_web_sm"
   ]
  },
  {
   "cell_type": "code",
   "execution_count": 15,
   "metadata": {},
   "outputs": [
    {
     "name": "stdout",
     "output_type": "stream",
     "text": [
      "Collecting en-core-web-lg==3.5.0\n",
      "  Downloading https://github.com/explosion/spacy-models/releases/download/en_core_web_lg-3.5.0/en_core_web_lg-3.5.0-py3-none-any.whl (587.7 MB)\n",
      "Requirement already satisfied: spacy<3.6.0,>=3.5.0 in c:\\users\\pc\\anaconda3\\lib\\site-packages (from en-core-web-lg==3.5.0) (3.5.3)\n",
      "Requirement already satisfied: catalogue<2.1.0,>=2.0.6 in c:\\users\\pc\\anaconda3\\lib\\site-packages (from spacy<3.6.0,>=3.5.0->en-core-web-lg==3.5.0) (2.0.8)\n",
      "Requirement already satisfied: spacy-loggers<2.0.0,>=1.0.0 in c:\\users\\pc\\anaconda3\\lib\\site-packages (from spacy<3.6.0,>=3.5.0->en-core-web-lg==3.5.0) (1.0.4)\n",
      "Requirement already satisfied: requests<3.0.0,>=2.13.0 in c:\\users\\pc\\anaconda3\\lib\\site-packages (from spacy<3.6.0,>=3.5.0->en-core-web-lg==3.5.0) (2.25.1)\n"
     ]
    },
    {
     "name": "stderr",
     "output_type": "stream",
     "text": [
      "c:\\Users\\PC\\anaconda3\\lib\\site-packages\\scipy\\__init__.py:138: UserWarning: A NumPy version >=1.16.5 and <1.23.0 is required for this version of SciPy (detected version 1.23.5)\n",
      "  warnings.warn(f\"A NumPy version >={np_minversion} and <{np_maxversion} is required for this version of \"\n"
     ]
    },
    {
     "name": "stdout",
     "output_type": "stream",
     "text": [
      "Requirement already satisfied: pydantic!=1.8,!=1.8.1,<1.11.0,>=1.7.4 in c:\\users\\pc\\anaconda3\\lib\\site-packages (from spacy<3.6.0,>=3.5.0->en-core-web-lg==3.5.0) (1.10.9)\n",
      "Requirement already satisfied: cymem<2.1.0,>=2.0.2 in c:\\users\\pc\\anaconda3\\lib\\site-packages (from spacy<3.6.0,>=3.5.0->en-core-web-lg==3.5.0) (2.0.7)\n",
      "Requirement already satisfied: smart-open<7.0.0,>=5.2.1 in c:\\users\\pc\\anaconda3\\lib\\site-packages (from spacy<3.6.0,>=3.5.0->en-core-web-lg==3.5.0) (6.3.0)\n",
      "Requirement already satisfied: pathy>=0.10.0 in c:\\users\\pc\\anaconda3\\lib\\site-packages (from spacy<3.6.0,>=3.5.0->en-core-web-lg==3.5.0) (0.10.2)\n",
      "Requirement already satisfied: setuptools in c:\\users\\pc\\anaconda3\\lib\\site-packages (from spacy<3.6.0,>=3.5.0->en-core-web-lg==3.5.0) (52.0.0.post20210125)\n",
      "Requirement already satisfied: wasabi<1.2.0,>=0.9.1 in c:\\users\\pc\\anaconda3\\lib\\site-packages (from spacy<3.6.0,>=3.5.0->en-core-web-lg==3.5.0) (1.1.2)\n",
      "Requirement already satisfied: langcodes<4.0.0,>=3.2.0 in c:\\users\\pc\\anaconda3\\lib\\site-packages (from spacy<3.6.0,>=3.5.0->en-core-web-lg==3.5.0) (3.3.0)\n",
      "Requirement already satisfied: spacy-legacy<3.1.0,>=3.0.11 in c:\\users\\pc\\anaconda3\\lib\\site-packages (from spacy<3.6.0,>=3.5.0->en-core-web-lg==3.5.0) (3.0.12)\n",
      "Requirement already satisfied: tqdm<5.0.0,>=4.38.0 in c:\\users\\pc\\anaconda3\\lib\\site-packages (from spacy<3.6.0,>=3.5.0->en-core-web-lg==3.5.0) (4.59.0)\n",
      "Requirement already satisfied: numpy>=1.15.0 in c:\\users\\pc\\anaconda3\\lib\\site-packages (from spacy<3.6.0,>=3.5.0->en-core-web-lg==3.5.0) (1.23.5)\n",
      "Requirement already satisfied: srsly<3.0.0,>=2.4.3 in c:\\users\\pc\\anaconda3\\lib\\site-packages (from spacy<3.6.0,>=3.5.0->en-core-web-lg==3.5.0) (2.4.6)\n",
      "Requirement already satisfied: murmurhash<1.1.0,>=0.28.0 in c:\\users\\pc\\anaconda3\\lib\\site-packages (from spacy<3.6.0,>=3.5.0->en-core-web-lg==3.5.0) (1.0.9)\n",
      "Requirement already satisfied: jinja2 in c:\\users\\pc\\anaconda3\\lib\\site-packages (from spacy<3.6.0,>=3.5.0->en-core-web-lg==3.5.0) (3.1.2)\n",
      "Requirement already satisfied: typer<0.8.0,>=0.3.0 in c:\\users\\pc\\anaconda3\\lib\\site-packages (from spacy<3.6.0,>=3.5.0->en-core-web-lg==3.5.0) (0.7.0)\n",
      "Requirement already satisfied: thinc<8.2.0,>=8.1.8 in c:\\users\\pc\\anaconda3\\lib\\site-packages (from spacy<3.6.0,>=3.5.0->en-core-web-lg==3.5.0) (8.1.10)\n",
      "Requirement already satisfied: preshed<3.1.0,>=3.0.2 in c:\\users\\pc\\anaconda3\\lib\\site-packages (from spacy<3.6.0,>=3.5.0->en-core-web-lg==3.5.0) (3.0.8)\n",
      "Requirement already satisfied: packaging>=20.0 in c:\\users\\pc\\anaconda3\\lib\\site-packages (from spacy<3.6.0,>=3.5.0->en-core-web-lg==3.5.0) (23.1)\n",
      "Requirement already satisfied: typing-extensions>=4.2.0 in c:\\users\\pc\\anaconda3\\lib\\site-packages (from pydantic!=1.8,!=1.8.1,<1.11.0,>=1.7.4->spacy<3.6.0,>=3.5.0->en-core-web-lg==3.5.0) (4.5.0)\n",
      "Requirement already satisfied: chardet<5,>=3.0.2 in c:\\users\\pc\\anaconda3\\lib\\site-packages (from requests<3.0.0,>=2.13.0->spacy<3.6.0,>=3.5.0->en-core-web-lg==3.5.0) (4.0.0)\n",
      "Requirement already satisfied: certifi>=2017.4.17 in c:\\users\\pc\\anaconda3\\lib\\site-packages (from requests<3.0.0,>=2.13.0->spacy<3.6.0,>=3.5.0->en-core-web-lg==3.5.0) (2020.12.5)\n",
      "Requirement already satisfied: idna<3,>=2.5 in c:\\users\\pc\\anaconda3\\lib\\site-packages (from requests<3.0.0,>=2.13.0->spacy<3.6.0,>=3.5.0->en-core-web-lg==3.5.0) (2.10)\n",
      "Requirement already satisfied: urllib3<1.27,>=1.21.1 in c:\\users\\pc\\anaconda3\\lib\\site-packages (from requests<3.0.0,>=2.13.0->spacy<3.6.0,>=3.5.0->en-core-web-lg==3.5.0) (1.26.4)\n",
      "Requirement already satisfied: blis<0.8.0,>=0.7.8 in c:\\users\\pc\\anaconda3\\lib\\site-packages (from thinc<8.2.0,>=8.1.8->spacy<3.6.0,>=3.5.0->en-core-web-lg==3.5.0) (0.7.9)\n",
      "Requirement already satisfied: confection<1.0.0,>=0.0.1 in c:\\users\\pc\\anaconda3\\lib\\site-packages (from thinc<8.2.0,>=8.1.8->spacy<3.6.0,>=3.5.0->en-core-web-lg==3.5.0) (0.0.4)\n",
      "Requirement already satisfied: click<9.0.0,>=7.1.1 in c:\\users\\pc\\anaconda3\\lib\\site-packages (from typer<0.8.0,>=0.3.0->spacy<3.6.0,>=3.5.0->en-core-web-lg==3.5.0) (8.1.3)\n",
      "Requirement already satisfied: colorama in c:\\users\\pc\\anaconda3\\lib\\site-packages (from click<9.0.0,>=7.1.1->typer<0.8.0,>=0.3.0->spacy<3.6.0,>=3.5.0->en-core-web-lg==3.5.0) (0.4.6)\n",
      "Requirement already satisfied: MarkupSafe>=2.0 in c:\\users\\pc\\anaconda3\\lib\\site-packages (from jinja2->spacy<3.6.0,>=3.5.0->en-core-web-lg==3.5.0) (2.1.2)\n",
      "Installing collected packages: en-core-web-lg\n",
      "Successfully installed en-core-web-lg-3.5.0\n",
      "\u001b[38;5;2m✔ Download and installation successful\u001b[0m\n",
      "You can now load the package via spacy.load('en_core_web_lg')\n"
     ]
    }
   ],
   "source": [
    "!python -m spacy download en_core_web_lg\n"
   ]
  },
  {
   "cell_type": "code",
   "execution_count": 26,
   "metadata": {},
   "outputs": [
    {
     "ename": "OSError",
     "evalue": "[E050] Can't find model 'en_core_web_sm'. It doesn't seem to be a Python package or a valid path to a data directory.",
     "output_type": "error",
     "traceback": [
      "\u001b[1;31m---------------------------------------------------------------------------\u001b[0m",
      "\u001b[1;31mOSError\u001b[0m                                   Traceback (most recent call last)",
      "\u001b[1;32m<ipython-input-26-2a4f712153e9>\u001b[0m in \u001b[0;36m<module>\u001b[1;34m\u001b[0m\n\u001b[0;32m      2\u001b[0m \u001b[1;33m\u001b[0m\u001b[0m\n\u001b[0;32m      3\u001b[0m \u001b[1;31m# Load the SpaCy language model\u001b[0m\u001b[1;33m\u001b[0m\u001b[1;33m\u001b[0m\u001b[1;33m\u001b[0m\u001b[0m\n\u001b[1;32m----> 4\u001b[1;33m \u001b[0mnlp\u001b[0m \u001b[1;33m=\u001b[0m \u001b[0mspacy\u001b[0m\u001b[1;33m.\u001b[0m\u001b[0mload\u001b[0m\u001b[1;33m(\u001b[0m\u001b[1;34m'en_core_web_sm'\u001b[0m\u001b[1;33m)\u001b[0m\u001b[1;33m\u001b[0m\u001b[1;33m\u001b[0m\u001b[0m\n\u001b[0m\u001b[0;32m      5\u001b[0m \u001b[1;33m\u001b[0m\u001b[0m\n\u001b[0;32m      6\u001b[0m \u001b[1;33m\u001b[0m\u001b[0m\n",
      "\u001b[1;32mc:\\Users\\PC\\anaconda3\\lib\\site-packages\\spacy\\__init__.py\u001b[0m in \u001b[0;36mload\u001b[1;34m(name, vocab, disable, enable, exclude, config)\u001b[0m\n\u001b[0;32m     52\u001b[0m     \u001b[0mRETURNS\u001b[0m \u001b[1;33m(\u001b[0m\u001b[0mLanguage\u001b[0m\u001b[1;33m)\u001b[0m\u001b[1;33m:\u001b[0m \u001b[0mThe\u001b[0m \u001b[0mloaded\u001b[0m \u001b[0mnlp\u001b[0m \u001b[0mobject\u001b[0m\u001b[1;33m.\u001b[0m\u001b[1;33m\u001b[0m\u001b[1;33m\u001b[0m\u001b[0m\n\u001b[0;32m     53\u001b[0m     \"\"\"\n\u001b[1;32m---> 54\u001b[1;33m     return util.load_model(\n\u001b[0m\u001b[0;32m     55\u001b[0m         \u001b[0mname\u001b[0m\u001b[1;33m,\u001b[0m\u001b[1;33m\u001b[0m\u001b[1;33m\u001b[0m\u001b[0m\n\u001b[0;32m     56\u001b[0m         \u001b[0mvocab\u001b[0m\u001b[1;33m=\u001b[0m\u001b[0mvocab\u001b[0m\u001b[1;33m,\u001b[0m\u001b[1;33m\u001b[0m\u001b[1;33m\u001b[0m\u001b[0m\n",
      "\u001b[1;32mc:\\Users\\PC\\anaconda3\\lib\\site-packages\\spacy\\util.py\u001b[0m in \u001b[0;36mload_model\u001b[1;34m(name, vocab, disable, enable, exclude, config)\u001b[0m\n\u001b[0;32m    447\u001b[0m     \u001b[1;32mif\u001b[0m \u001b[0mname\u001b[0m \u001b[1;32min\u001b[0m \u001b[0mOLD_MODEL_SHORTCUTS\u001b[0m\u001b[1;33m:\u001b[0m\u001b[1;33m\u001b[0m\u001b[1;33m\u001b[0m\u001b[0m\n\u001b[0;32m    448\u001b[0m         \u001b[1;32mraise\u001b[0m \u001b[0mIOError\u001b[0m\u001b[1;33m(\u001b[0m\u001b[0mErrors\u001b[0m\u001b[1;33m.\u001b[0m\u001b[0mE941\u001b[0m\u001b[1;33m.\u001b[0m\u001b[0mformat\u001b[0m\u001b[1;33m(\u001b[0m\u001b[0mname\u001b[0m\u001b[1;33m=\u001b[0m\u001b[0mname\u001b[0m\u001b[1;33m,\u001b[0m \u001b[0mfull\u001b[0m\u001b[1;33m=\u001b[0m\u001b[0mOLD_MODEL_SHORTCUTS\u001b[0m\u001b[1;33m[\u001b[0m\u001b[0mname\u001b[0m\u001b[1;33m]\u001b[0m\u001b[1;33m)\u001b[0m\u001b[1;33m)\u001b[0m  \u001b[1;31m# type: ignore[index]\u001b[0m\u001b[1;33m\u001b[0m\u001b[1;33m\u001b[0m\u001b[0m\n\u001b[1;32m--> 449\u001b[1;33m     \u001b[1;32mraise\u001b[0m \u001b[0mIOError\u001b[0m\u001b[1;33m(\u001b[0m\u001b[0mErrors\u001b[0m\u001b[1;33m.\u001b[0m\u001b[0mE050\u001b[0m\u001b[1;33m.\u001b[0m\u001b[0mformat\u001b[0m\u001b[1;33m(\u001b[0m\u001b[0mname\u001b[0m\u001b[1;33m=\u001b[0m\u001b[0mname\u001b[0m\u001b[1;33m)\u001b[0m\u001b[1;33m)\u001b[0m\u001b[1;33m\u001b[0m\u001b[1;33m\u001b[0m\u001b[0m\n\u001b[0m\u001b[0;32m    450\u001b[0m \u001b[1;33m\u001b[0m\u001b[0m\n\u001b[0;32m    451\u001b[0m \u001b[1;33m\u001b[0m\u001b[0m\n",
      "\u001b[1;31mOSError\u001b[0m: [E050] Can't find model 'en_core_web_sm'. It doesn't seem to be a Python package or a valid path to a data directory."
     ]
    }
   ],
   "source": [
    "import spacy\n",
    "\n",
    "# Load the SpaCy language model\n",
    "nlp = spacy.load('en_core_web_sm')\n",
    "\n",
    "\n",
    "# Calculate similarity score between each pair of play names\n",
    "similarity_scores = {}\n",
    "for i in range(len(preprocessed_play_names)):\n",
    "    for j in range(i + 1, len(preprocessed_play_names)):\n",
    "        play_name1 = preprocessed_play_names[i]\n",
    "        play_name2 = preprocessed_play_names[j]\n",
    "        similarity = nlp(play_name1).similarity(nlp(play_name2))\n",
    "        similarity_scores[(play_name1, play_name2)] = similarity\n",
    "\n",
    "# Print the similarity scores\n",
    "for pair, similarity in similarity_scores.items():\n",
    "    play_name1, play_name2 = pair\n",
    "    print(f\"Similarity between '{play_name1}' and '{play_name2}': {similarity}\")\n"
   ]
  },
  {
   "cell_type": "code",
   "execution_count": 37,
   "metadata": {},
   "outputs": [
    {
     "name": "stdout",
     "output_type": "stream",
     "text": [
      "Similarity between 'low-down and dirty' and 'deploy ansible onto the lab': 0.45536227149286596\n",
      "Similarity between 'low-down and dirty' and 'setup the users': 0.37696196370422935\n",
      "Similarity between 'deploy ansible onto the lab' and 'setup the users': 0.6608498622261184\n",
      "Average similarity score: 0.49772469914107126\n"
     ]
    }
   ],
   "source": [
    "import spacy\n",
    "\n",
    "# Load the SpaCy language model\n",
    "\n",
    "nlp = spacy.load('en_core_web_lg')\n",
    "\n",
    "\n",
    "# Calculate similarity score between each pair of play names\n",
    "similarity_scores = {}\n",
    "for i in range(len(preprocessed_play_names)):\n",
    "    for j in range(i + 1, len(preprocessed_play_names)):\n",
    "        play_name1 = preprocessed_play_names[i]\n",
    "        play_name2 = preprocessed_play_names[j]\n",
    "        similarity = nlp(play_name1).similarity(nlp(play_name2))\n",
    "        similarity_scores[(play_name1, play_name2)] = similarity\n",
    "\n",
    "# Print the similarity scores\n",
    "for pair, similarity in similarity_scores.items():\n",
    "    play_name1, play_name2 = pair\n",
    "    print(f\"Similarity between '{play_name1}' and '{play_name2}': {similarity}\")\n",
    "\n",
    "# Calculate the average similarity score\n",
    "num_pairs = len(similarity_scores)\n",
    "sum_similarity = sum(similarity_scores.values())\n",
    "average_similarity = sum_similarity / num_pairs\n",
    "\n",
    "# Print the average similarity score\n",
    "print(f\"Average similarity score: {average_similarity}\")\n"
   ]
  },
  {
   "attachments": {},
   "cell_type": "markdown",
   "metadata": {},
   "source": [
    "Sem_Cohesion Tasks"
   ]
  },
  {
   "cell_type": "code",
   "execution_count": 28,
   "metadata": {},
   "outputs": [
    {
     "name": "stdout",
     "output_type": "stream",
     "text": [
      "['Pick up sensitive vars', 'Announce the setup', 'Low down dirty setup', 'Announce the outcome', 'Pick up sensitive vars', 'Pick up participants', 'Announce the Config play', 'Install some basic stuff', 'Install Ansible', 'Announce the Config play outcome', 'Add the participant', 'Ensure that the participant ssh key on Github is in authorized keys', 'Ensure that the user is in sudoers', 'Assert that the preferred editor is in prerequisites', 'Git config for the users', 'Announce the Config play outcome']\n"
     ]
    }
   ],
   "source": [
    "# Extract the names of plays from the YAML data\n",
    "tasks = []\n",
    "for play in yaml_data:\n",
    "    if 'tasks' in play:\n",
    "        tasks.extend(play['tasks'])\n",
    "    #print(play)\n",
    "#print(tasks)\n",
    "\n",
    "task_names = []\n",
    "# Display the tasks\n",
    "for task in tasks:\n",
    "    #print(task['name'])\n",
    "    task_names.append(task['name'])\n",
    "print(task_names)"
   ]
  },
  {
   "cell_type": "code",
   "execution_count": 29,
   "metadata": {},
   "outputs": [
    {
     "data": {
      "text/plain": [
       "['pick up sensitive vars',\n",
       " 'announce the setup',\n",
       " 'low down dirty setup',\n",
       " 'announce the outcome',\n",
       " 'pick up sensitive vars',\n",
       " 'pick up participants',\n",
       " 'announce the config play',\n",
       " 'install some basic stuff',\n",
       " 'install ansible',\n",
       " 'announce the config play outcome',\n",
       " 'add the participant',\n",
       " 'ensure that the participant ssh key on github is in authorized keys',\n",
       " 'ensure that the user is in sudoers',\n",
       " 'assert that the preferred editor is in prerequisites',\n",
       " 'git config for the users',\n",
       " 'announce the config play outcome']"
      ]
     },
     "execution_count": 29,
     "metadata": {},
     "output_type": "execute_result"
    }
   ],
   "source": [
    "# Initialize the lemmatizer\n",
    "lemmatizer = WordNetLemmatizer()\n",
    "\n",
    "preprocessed_task_names = []\n",
    "for name in task_names:\n",
    "    lowercase_name = name.lower()\n",
    "    singular_name = lemmatizer.lemmatize(lowercase_name)\n",
    "    preprocessed_task_names.append(singular_name)\n",
    "preprocessed_task_names"
   ]
  },
  {
   "cell_type": "code",
   "execution_count": 38,
   "metadata": {},
   "outputs": [
    {
     "name": "stdout",
     "output_type": "stream",
     "text": [
      "Similarity between 'pick up sensitive vars' and 'announce the setup': 0.2762089837659502\n",
      "Similarity between 'pick up sensitive vars' and 'low down dirty setup': 0.5151992391708506\n",
      "Similarity between 'pick up sensitive vars' and 'announce the outcome': 0.23255232643256857\n",
      "Similarity between 'pick up sensitive vars' and 'pick up sensitive vars': 1.0\n",
      "Similarity between 'pick up sensitive vars' and 'pick up participants': 0.9660815435478313\n",
      "Similarity between 'pick up sensitive vars' and 'announce the config play': 0.3570811608889151\n",
      "Similarity between 'pick up sensitive vars' and 'install some basic stuff': 0.46349398379528206\n",
      "Similarity between 'pick up sensitive vars' and 'install ansible': 0.3255285279082364\n",
      "Similarity between 'pick up sensitive vars' and 'announce the config play outcome': 0.3480285802555285\n",
      "Similarity between 'pick up sensitive vars' and 'add the participant': 0.32955033509137416\n",
      "Similarity between 'pick up sensitive vars' and 'ensure that the participant ssh key on github is in authorized keys': 0.3052212952421294\n",
      "Similarity between 'pick up sensitive vars' and 'ensure that the user is in sudoers': 0.2530951332901788\n",
      "Similarity between 'pick up sensitive vars' and 'assert that the preferred editor is in prerequisites': 0.19224505854029314\n",
      "Similarity between 'pick up sensitive vars' and 'git config for the users': 0.3563297922353907\n",
      "Similarity between 'announce the setup' and 'low down dirty setup': 0.2585212162320894\n",
      "Similarity between 'announce the setup' and 'announce the outcome': 0.8887303521979782\n",
      "Similarity between 'announce the setup' and 'pick up sensitive vars': 0.2762089837659502\n",
      "Similarity between 'announce the setup' and 'pick up participants': 0.3127922407121754\n",
      "Similarity between 'announce the setup' and 'announce the config play': 0.8611271314978011\n",
      "Similarity between 'announce the setup' and 'install some basic stuff': 0.4383471919791152\n",
      "Similarity between 'announce the setup' and 'install ansible': 0.5777046338270356\n",
      "Similarity between 'announce the setup' and 'announce the config play outcome': 0.8438416726034935\n",
      "Similarity between 'announce the setup' and 'add the participant': 0.7396792497759411\n",
      "Similarity between 'announce the setup' and 'ensure that the participant ssh key on github is in authorized keys': 0.67815192414208\n",
      "Similarity between 'announce the setup' and 'ensure that the user is in sudoers': 0.6651037728101064\n",
      "Similarity between 'announce the setup' and 'assert that the preferred editor is in prerequisites': 0.6545891679334419\n",
      "Similarity between 'announce the setup' and 'git config for the users': 0.7363092125349622\n",
      "Similarity between 'low down dirty setup' and 'announce the outcome': 0.16986510343011238\n",
      "Similarity between 'low down dirty setup' and 'pick up sensitive vars': 0.5151992391708506\n",
      "Similarity between 'low down dirty setup' and 'pick up participants': 0.45509416169005595\n",
      "Similarity between 'low down dirty setup' and 'announce the config play': 0.24920143820572024\n",
      "Similarity between 'low down dirty setup' and 'install some basic stuff': 0.5162195739666179\n",
      "Similarity between 'low down dirty setup' and 'install ansible': 0.4461535516857016\n",
      "Similarity between 'low down dirty setup' and 'announce the config play outcome': 0.2549774605042735\n",
      "Similarity between 'low down dirty setup' and 'add the participant': 0.30829242127435214\n",
      "Similarity between 'low down dirty setup' and 'ensure that the participant ssh key on github is in authorized keys': 0.33653970794957533\n",
      "Similarity between 'low down dirty setup' and 'ensure that the user is in sudoers': 0.3255231204843457\n",
      "Similarity between 'low down dirty setup' and 'assert that the preferred editor is in prerequisites': 0.23995040201567638\n",
      "Similarity between 'low down dirty setup' and 'git config for the users': 0.36376095740111136\n",
      "Similarity between 'announce the outcome' and 'pick up sensitive vars': 0.23255232643256857\n",
      "Similarity between 'announce the outcome' and 'pick up participants': 0.27634071553939227\n",
      "Similarity between 'announce the outcome' and 'announce the config play': 0.8201078239600584\n",
      "Similarity between 'announce the outcome' and 'install some basic stuff': 0.3435011764645091\n",
      "Similarity between 'announce the outcome' and 'install ansible': 0.41516474252633156\n",
      "Similarity between 'announce the outcome' and 'announce the config play outcome': 0.8813328971234573\n",
      "Similarity between 'announce the outcome' and 'add the participant': 0.6890972757534884\n",
      "Similarity between 'announce the outcome' and 'ensure that the participant ssh key on github is in authorized keys': 0.6920720946511117\n",
      "Similarity between 'announce the outcome' and 'ensure that the user is in sudoers': 0.6991091135914321\n",
      "Similarity between 'announce the outcome' and 'assert that the preferred editor is in prerequisites': 0.7122837303818302\n",
      "Similarity between 'announce the outcome' and 'git config for the users': 0.6622948007914884\n",
      "Similarity between 'pick up participants' and 'announce the config play': 0.3820000247256045\n",
      "Similarity between 'pick up participants' and 'install some basic stuff': 0.4252088278806242\n",
      "Similarity between 'pick up participants' and 'install ansible': 0.2893883982805066\n",
      "Similarity between 'pick up participants' and 'announce the config play outcome': 0.37555664009257256\n",
      "Similarity between 'pick up participants' and 'add the participant': 0.3338774366561954\n",
      "Similarity between 'pick up participants' and 'ensure that the participant ssh key on github is in authorized keys': 0.3129492172763578\n",
      "Similarity between 'pick up participants' and 'ensure that the user is in sudoers': 0.25386115696332945\n",
      "Similarity between 'pick up participants' and 'assert that the preferred editor is in prerequisites': 0.19091807738162772\n",
      "Similarity between 'pick up participants' and 'git config for the users': 0.3719891293759998\n",
      "Similarity between 'announce the config play' and 'install some basic stuff': 0.46247718194910825\n",
      "Similarity between 'announce the config play' and 'install ansible': 0.5460384799708518\n",
      "Similarity between 'announce the config play' and 'announce the config play outcome': 0.9716925016467942\n",
      "Similarity between 'announce the config play' and 'add the participant': 0.7376242840382222\n",
      "Similarity between 'announce the config play' and 'ensure that the participant ssh key on github is in authorized keys': 0.674463441622328\n",
      "Similarity between 'announce the config play' and 'ensure that the user is in sudoers': 0.6472018441011762\n",
      "Similarity between 'announce the config play' and 'assert that the preferred editor is in prerequisites': 0.6430682456226838\n",
      "Similarity between 'announce the config play' and 'git config for the users': 0.7360672454560074\n",
      "Similarity between 'install some basic stuff' and 'install ansible': 0.6894162057348077\n",
      "Similarity between 'install some basic stuff' and 'announce the config play outcome': 0.4779659559584264\n",
      "Similarity between 'install some basic stuff' and 'add the participant': 0.5606713618913923\n",
      "Similarity between 'install some basic stuff' and 'ensure that the participant ssh key on github is in authorized keys': 0.5246129159628281\n",
      "Similarity between 'install some basic stuff' and 'ensure that the user is in sudoers': 0.5116504009123913\n",
      "Similarity between 'install some basic stuff' and 'assert that the preferred editor is in prerequisites': 0.45290276762813797\n",
      "Similarity between 'install some basic stuff' and 'git config for the users': 0.6051549075338752\n",
      "Similarity between 'install ansible' and 'announce the config play outcome': 0.5451632467821357\n",
      "Similarity between 'install ansible' and 'add the participant': 0.5850052323057714\n",
      "Similarity between 'install ansible' and 'ensure that the participant ssh key on github is in authorized keys': 0.5486758436314542\n",
      "Similarity between 'install ansible' and 'ensure that the user is in sudoers': 0.5350930825991961\n",
      "Similarity between 'install ansible' and 'assert that the preferred editor is in prerequisites': 0.4630056827900593\n",
      "Similarity between 'install ansible' and 'git config for the users': 0.6732736938895173\n",
      "Similarity between 'announce the config play outcome' and 'add the participant': 0.7301018053404518\n",
      "Similarity between 'announce the config play outcome' and 'ensure that the participant ssh key on github is in authorized keys': 0.7044861559338199\n",
      "Similarity between 'announce the config play outcome' and 'ensure that the user is in sudoers': 0.69565364405924\n",
      "Similarity between 'announce the config play outcome' and 'assert that the preferred editor is in prerequisites': 0.6828848490942576\n",
      "Similarity between 'announce the config play outcome' and 'git config for the users': 0.7398349067296677\n",
      "Similarity between 'announce the config play outcome' and 'announce the config play outcome': 1.0\n",
      "Similarity between 'add the participant' and 'ensure that the participant ssh key on github is in authorized keys': 0.6519439314475737\n",
      "Similarity between 'add the participant' and 'ensure that the user is in sudoers': 0.6491005348474016\n",
      "Similarity between 'add the participant' and 'assert that the preferred editor is in prerequisites': 0.6261013864773183\n",
      "Similarity between 'add the participant' and 'git config for the users': 0.7129766210137176\n",
      "Similarity between 'add the participant' and 'announce the config play outcome': 0.7301018053404518\n",
      "Similarity between 'ensure that the participant ssh key on github is in authorized keys' and 'ensure that the user is in sudoers': 0.90625041850817\n",
      "Similarity between 'ensure that the participant ssh key on github is in authorized keys' and 'assert that the preferred editor is in prerequisites': 0.8663467415119371\n",
      "Similarity between 'ensure that the participant ssh key on github is in authorized keys' and 'git config for the users': 0.7580283711227369\n",
      "Similarity between 'ensure that the participant ssh key on github is in authorized keys' and 'announce the config play outcome': 0.7044861559338199\n",
      "Similarity between 'ensure that the user is in sudoers' and 'assert that the preferred editor is in prerequisites': 0.9315661451073636\n",
      "Similarity between 'ensure that the user is in sudoers' and 'git config for the users': 0.7412179331828047\n",
      "Similarity between 'ensure that the user is in sudoers' and 'announce the config play outcome': 0.69565364405924\n",
      "Similarity between 'assert that the preferred editor is in prerequisites' and 'git config for the users': 0.6612969599183199\n",
      "Similarity between 'assert that the preferred editor is in prerequisites' and 'announce the config play outcome': 0.6828848490942576\n",
      "Similarity between 'git config for the users' and 'announce the config play outcome': 0.7398349067296677\n",
      "Average similarity score: 0.5504364528839899\n"
     ]
    }
   ],
   "source": [
    "import spacy\n",
    "\n",
    "# Load the SpaCy language model\n",
    "\n",
    "nlp = spacy.load('en_core_web_lg')\n",
    "\n",
    "\n",
    "# Calculate similarity score between each pair of play names\n",
    "similarity_scores = {}\n",
    "for i in range(len(preprocessed_task_names)):\n",
    "    for j in range(i + 1, len(preprocessed_task_names)):\n",
    "        task_name1 = preprocessed_task_names[i]\n",
    "        task_name2 = preprocessed_task_names[j]\n",
    "        similarity = nlp(task_name1).similarity(nlp(task_name2))\n",
    "        similarity_scores[(task_name1, task_name2)] = similarity\n",
    "\n",
    "# Print the similarity scores\n",
    "for pair, similarity in similarity_scores.items():\n",
    "    task_name1, task_name2 = pair\n",
    "    print(f\"Similarity between '{task_name1}' and '{task_name2}': {similarity}\")\n",
    "\n",
    "# Calculate the average similarity score\n",
    "num_pairs = len(similarity_scores)\n",
    "sum_similarity = sum(similarity_scores.values())\n",
    "average_similarity = sum_similarity / num_pairs\n",
    "\n",
    "# Print the average similarity score\n",
    "print(f\"Average similarity score: {average_similarity}\")"
   ]
  },
  {
   "cell_type": "code",
   "execution_count": null,
   "metadata": {},
   "outputs": [],
   "source": []
  }
 ],
 "metadata": {
  "interpreter": {
   "hash": "e734a217ba79c8da282b21060763dfdf9659d4aca3b12376e6742316e3300315"
  },
  "kernelspec": {
   "display_name": "Python 3.9.13 64-bit",
   "language": "python",
   "name": "python3"
  },
  "language_info": {
   "codemirror_mode": {
    "name": "ipython",
    "version": 3
   },
   "file_extension": ".py",
   "mimetype": "text/x-python",
   "name": "python",
   "nbconvert_exporter": "python",
   "pygments_lexer": "ipython3",
   "version": "3.8.8"
  },
  "orig_nbformat": 4
 },
 "nbformat": 4,
 "nbformat_minor": 2
}
