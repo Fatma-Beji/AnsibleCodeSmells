{
 "cells": [
  {
   "cell_type": "code",
   "execution_count": 17,
   "metadata": {},
   "outputs": [],
   "source": [
    "import pandas as pd"
   ]
  },
  {
   "cell_type": "code",
   "execution_count": 28,
   "metadata": {},
   "outputs": [],
   "source": [
    "# Read only the first 21 columns from the Excel file into a DataFrame\n",
    "df = pd.read_excel('Annotation.xlsx', usecols=range(21), header=None)"
   ]
  },
  {
   "cell_type": "code",
   "execution_count": 29,
   "metadata": {},
   "outputs": [],
   "source": [
    "# Create a deep copy of the DataFrame\n",
    "new_df = df.copy(deep=True)\n"
   ]
  },
  {
   "cell_type": "code",
   "execution_count": 32,
   "metadata": {},
   "outputs": [],
   "source": [
    "\n",
    "# Loop through rows and columns to transform the cell values\n",
    "# Skip the first two rows and the first three columns\n",
    "for row in range(2, df.shape[0]):\n",
    "    for col in range(3, 21):\n",
    "        cell = df.iat[row, col]\n",
    "\n",
    "        # Transform the cell values to binary\n",
    "        if pd.isna(cell):\n",
    "            new_df.iat[row, col] = 0\n",
    "        elif cell == '#':\n",
    "            new_df.iat[row, col] = '#'\n",
    "        elif 'F' in str(cell):\n",
    "            new_df.iat[row, col] = 1\n",
    "\n",
    "# Save the modified DataFrame back to an Excel file\n",
    "new_df.to_excel('binary_annotation.xlsx', index=False, header=False)"
   ]
  },
  {
   "cell_type": "code",
   "execution_count": null,
   "metadata": {},
   "outputs": [],
   "source": [
    "\n"
   ]
  }
 ],
 "metadata": {
  "kernelspec": {
   "display_name": "base",
   "language": "python",
   "name": "python3"
  },
  "language_info": {
   "codemirror_mode": {
    "name": "ipython",
    "version": 3
   },
   "file_extension": ".py",
   "mimetype": "text/x-python",
   "name": "python",
   "nbconvert_exporter": "python",
   "pygments_lexer": "ipython3",
   "version": "3.8.8"
  },
  "orig_nbformat": 4
 },
 "nbformat": 4,
 "nbformat_minor": 2
}
